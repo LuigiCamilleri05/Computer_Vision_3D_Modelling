{
 "cells": [
  {
   "cell_type": "markdown",
   "id": "d064af66-1e8b-44c5-a989-625af6a1ba0a",
   "metadata": {},
   "source": [
    "# Computer Vision Group Project"
   ]
  },
  {
   "cell_type": "markdown",
   "id": "4d12b93e-0ecb-4667-9483-f42cb96b8faa",
   "metadata": {},
   "source": [
    "### This is the jupiter notebook needed to carry out the Computer Vision Group Project"
   ]
  },
  {
   "cell_type": "markdown",
   "id": "89535d81-38a8-423d-90ef-3f9484c6a8b7",
   "metadata": {},
   "source": [
    "## Setup"
   ]
  },
  {
   "cell_type": "markdown",
   "id": "4837c51f-47ee-495b-ac92-bd1ace506bce",
   "metadata": {},
   "source": [
    "### Installations"
   ]
  },
  {
   "cell_type": "code",
   "execution_count": null,
   "id": "25c87775-2848-4f01-8279-b6c5ec9c3919",
   "metadata": {},
   "outputs": [],
   "source": [
    "!pip install decord"
   ]
  },
  {
   "cell_type": "markdown",
   "id": "8f77f84c-b7b2-4ae4-b466-8c164b845e05",
   "metadata": {},
   "source": [
    "### Libraries"
   ]
  },
  {
   "cell_type": "code",
   "execution_count": null,
   "id": "924decba-ed87-4c85-b1f1-364ec07b1e00",
   "metadata": {},
   "outputs": [],
   "source": [
    "import os\n",
    "import cv2\n",
    "from decord import VideoReader, cpu\n",
    "import matplotlib.pyplot as plt\n",
    "import numpy as np\n",
    "import time"
   ]
  },
  {
   "cell_type": "markdown",
   "id": "cc72e6a2-d155-46fb-9a06-025fd5463364",
   "metadata": {},
   "source": [
    "## Frame Extractions"
   ]
  },
  {
   "cell_type": "code",
   "execution_count": null,
   "id": "fa3a5006-fd63-47e5-81ec-97403b991a2e",
   "metadata": {},
   "outputs": [],
   "source": [
    "def extract_frames_with_decord(video_path, frames_dir, every=1, overwrite=False):\n",
    "    os.makedirs(frames_dir, exist_ok=True)\n",
    "\n",
    "    vr = VideoReader(video_path, ctx=cpu(0))\n",
    "    total_frames = len(vr)\n",
    "    saved = 0\n",
    "\n",
    "    for idx in range(0, total_frames, every):\n",
    "        frame = vr[idx].asnumpy()\n",
    "        frame_filename = os.path.join(frames_dir, f\"frame_{idx:04d}.jpg\")\n",
    "\n",
    "        if not os.path.exists(frame_filename) or overwrite:\n",
    "            cv2.imwrite(frame_filename, cv2.cvtColor(frame, cv2.COLOR_RGB2BGR))\n",
    "            saved += 1\n",
    "\n",
    "    print(f\"{saved} frames saved to {frames_dir}\")\n",
    "    return saved\n",
    "\n",
    "video_path = \"Vid6.mp4\"         # path to input video\n",
    "frames_output = \"extracted_frames\"  # folder to save frames\n",
    "\n",
    "extract_frames_with_decord(video_path, frames_output, every=5)"
   ]
  },
  {
   "cell_type": "markdown",
   "id": "054aa803-0a1c-47e3-9622-544cccbfa0d3",
   "metadata": {},
   "source": [
    "## Feature Detection and Description"
   ]
  },
  {
   "cell_type": "markdown",
   "id": "17986974-fb08-4c72-95f2-6b679536f8b4",
   "metadata": {},
   "source": [
    "### Loading algorithms"
   ]
  },
  {
   "cell_type": "code",
   "execution_count": null,
   "id": "5696cdb7-eb5b-4433-ba37-7a049ea98c21",
   "metadata": {},
   "outputs": [],
   "source": [
    "def kps_descriptors(detector, label=\"\"):\n",
    "    keypoints = []\n",
    "    descriptors = []\n",
    "\n",
    "    frame_files = sorted([f for f in os.listdir(frames_output) if f.endswith(\".jpg\")])\n",
    "\n",
    "    start_time = time.time()  # Start timing\n",
    "\n",
    "    for filename in frame_files:\n",
    "        frame_path = os.path.join(frames_output, filename)\n",
    "        image = cv2.imread(frame_path, cv2.IMREAD_COLOR)\n",
    "        if image is None:\n",
    "            continue\n",
    "        kps, desc = detector.detectAndCompute(image, None)\n",
    "        keypoints.append(kps)\n",
    "        descriptors.append(desc)\n",
    "\n",
    "    end_time = time.time()  # End timing\n",
    "    elapsed = end_time - start_time\n",
    "    print(f\"{label} took {elapsed:.2f} seconds to detect and describe {len(keypoints)} frames.\")\n",
    "\n",
    "    return keypoints, descriptors\n",
    "\n",
    "orb = cv2.ORB_create(nfeatures=1000)\n",
    "sift = cv2.SIFT_create()\n",
    "akaze = cv2.AKAZE_create()\n",
    "\n",
    "orb_kps, orb_desc = kps_descriptors(cv2.ORB_create(nfeatures=1000), label=\"ORB\")\n",
    "sift_kps, sift_desc = kps_descriptors(cv2.SIFT_create(), label=\"SIFT\")\n",
    "akaze_kps, akaze_desc = kps_descriptors(cv2.AKAZE_create(), label=\"AKAZE\")\n",
    "\n",
    "kps_dict = {\n",
    "    \"ORB\": orb_kps,\n",
    "    \"SIFT\": sift_kps,\n",
    "    \"AKAZE\": akaze_kps\n",
    "}\n",
    "desc_dict = {\n",
    "    \"ORB\": orb_desc,\n",
    "    \"SIFT\": sift_desc,\n",
    "    \"AKAZE\": akaze_desc\n",
    "}\n"
   ]
  },
  {
   "cell_type": "markdown",
   "id": "8cd5f7dc-8c63-4fd5-b4fb-03237e621681",
   "metadata": {},
   "source": [
    "### Number of detected features"
   ]
  },
  {
   "cell_type": "code",
   "execution_count": null,
   "id": "dac360c3-62bb-4231-baa4-46b1cfcbbf9c",
   "metadata": {},
   "outputs": [],
   "source": [
    "def counts(detector_data):\n",
    "    plt.figure(figsize=(10, 6))\n",
    "    for label, keypoints in detector_data:\n",
    "        frame_numbers = list(range(len(keypoints)))\n",
    "        keypoint_counts = [len(kps) for kps in keypoints]\n",
    "        plt.plot(frame_numbers, keypoint_counts, label=label, marker='o')\n",
    "\n",
    "    plt.xlabel(\"Frame Number\")\n",
    "    plt.ylabel(\"Number of Keypoints Detected\")\n",
    "    plt.title(\"Keypoints per Frame by Detector\")\n",
    "    plt.legend()\n",
    "    plt.grid(True)\n",
    "    plt.tight_layout()\n",
    "    plt.show()\n",
    "\n",
    "counts(list(kps_dict.items()))"
   ]
  },
  {
   "cell_type": "markdown",
   "id": "c2b4ce78-63eb-4774-a18f-76d7664a6094",
   "metadata": {},
   "source": [
    "### Matching performance and Feature Matching"
   ]
  },
  {
   "cell_type": "code",
   "execution_count": null,
   "id": "2f52baa5-37ab-482d-86a3-176658295656",
   "metadata": {},
   "outputs": [],
   "source": [
    "def match_and_draw(img1, kps1, desc1, img2, kps2, desc2, method=\"ORB\"):\n",
    "    \n",
    "    if method == \"ORB\" or method == \"AKAZE\":\n",
    "        bf = cv2.BFMatcher(cv2.NORM_HAMMING, crossCheck=True)\n",
    "        matches = bf.match(desc1, desc2)\n",
    "    elif method == \"SIFT\":\n",
    "        bf = cv2.BFMatcher(cv2.NORM_L2)\n",
    "        raw_matches = bf.knnMatch(desc1, desc2, k=2)\n",
    "        # Apply Lowe's ratio test\n",
    "        matches = [m for m, n in raw_matches if m.distance < 0.75 * n.distance]\n",
    "    else:\n",
    "        raise ValueError(f\"Unknown method: {method}\")\n",
    "\n",
    "    matches = sorted(matches, key=lambda x: x.distance)\n",
    "\n",
    "    matched_img = cv2.drawMatches(img1, kps1, img2, kps2, matches[:50], None, flags=2)\n",
    "    plt.figure(figsize=(14, 6))\n",
    "    plt.imshow(cv2.cvtColor(matched_img, cv2.COLOR_BGR2RGB))\n",
    "    plt.title(f\"{method} - {len(matches)} total matches\")\n",
    "    plt.axis(\"off\")\n",
    "    plt.tight_layout()\n",
    "    plt.show()\n",
    "\n",
    "    return matches\n",
    "\n",
    "def load_frame(idx):\n",
    "    path = os.path.join(frames_output, f\"frame_{idx:04d}.jpg\")\n",
    "    return cv2.imread(path, cv2.IMREAD_COLOR)\n",
    "\n",
    "def compare_matching_performance(frame_pairs, kps_dict, desc_dict, methods=[\"ORB\", \"SIFT\", \"AKAZE\"]):\n",
    "    \n",
    "    frame_nums = sorted(set(f for pair in frame_pairs for f in pair))\n",
    "    index_map = {frame_num: i for i, frame_num in enumerate(frame_nums)}\n",
    "\n",
    "    for idx1, idx2 in frame_pairs:\n",
    "        img1 = load_frame(idx1)\n",
    "        img2 = load_frame(idx2)\n",
    "\n",
    "        if img1 is None or img2 is None:\n",
    "            print(f\"Skipped pair ({idx1}, {idx2}) due to missing frame.\")\n",
    "            continue\n",
    "\n",
    "        try:\n",
    "            i1 = index_map[idx1]\n",
    "            i2 = index_map[idx2]\n",
    "        except KeyError:\n",
    "            print(f\"Frame indices {idx1} or {idx2} not found in index map.\")\n",
    "            continue\n",
    "\n",
    "        print(f\"\\nMatching frames {idx1} and {idx2}:\")\n",
    "\n",
    "        for method in methods:\n",
    "            match_and_draw(\n",
    "                img1, kps_dict[method][i1], desc_dict[method][i1],\n",
    "                img2, kps_dict[method][i2], desc_dict[method][i2],\n",
    "                method=method\n",
    "            )\n",
    "\n",
    "            \n",
    "frame_pairs = [(i, i + 5) for i in range(0, 296, 10)]\n",
    "compare_matching_performance(frame_pairs, kps_dict, desc_dict)"
   ]
  },
  {
   "cell_type": "markdown",
   "id": "101bbffe-4fbf-4723-b76a-72c3dbf4fd51",
   "metadata": {},
   "source": [
    "### Robustness Check (TODO)"
   ]
  },
  {
   "cell_type": "code",
   "execution_count": null,
   "id": "3de87b66-3656-469b-b208-90b4287dbe64",
   "metadata": {},
   "outputs": [],
   "source": []
  },
  {
   "cell_type": "markdown",
   "id": "334a7b45-96ee-4fdf-8264-17824fe95ebe",
   "metadata": {},
   "source": [
    "## Outlier Rejection"
   ]
  },
  {
   "cell_type": "code",
   "execution_count": null,
   "id": "05737331-fa13-49d8-9719-f1995bbcf23d",
   "metadata": {},
   "outputs": [],
   "source": [
    "def run_ransac(img1, img2, kps1, kps2, matches, method=\"ORB\"):\n",
    "    if len(matches) < 4:\n",
    "        print(f\"Not enough matches for RANSAC ({len(matches)} matches).\")\n",
    "        return []\n",
    "\n",
    "    pts1 = np.float32([kps1[m.queryIdx].pt for m in matches]).reshape(-1, 1, 2)\n",
    "    pts2 = np.float32([kps2[m.trainIdx].pt for m in matches]).reshape(-1, 1, 2)\n",
    "\n",
    "    H, mask = cv2.findHomography(pts1, pts2, cv2.RANSAC, 5.0)\n",
    "    if mask is None:\n",
    "        print(\"RANSAC failed to compute homography.\")\n",
    "        return []\n",
    "\n",
    "    inliers = [m for i, m in enumerate(matches) if mask[i]]\n",
    "\n",
    "    ransac_img = cv2.drawMatches(img1, kps1, img2, kps2, inliers[:50], None, flags=2)\n",
    "    plt.figure(figsize=(14, 6))\n",
    "    plt.imshow(cv2.cvtColor(ransac_img, cv2.COLOR_BGR2RGB))\n",
    "    plt.title(f\"{method} - {len(inliers)} inliers (After RANSAC)\")\n",
    "    plt.axis(\"off\")\n",
    "    plt.tight_layout()\n",
    "    plt.show()\n",
    "\n",
    "    return inliers\n",
    "\n",
    "\n",
    "def compare_matching_performance_ransac(frame_pairs, kps_dict, desc_dict, methods=[\"ORB\", \"SIFT\", \"AKAZE\"]):\n",
    "    # Build a mapping from frame number to index\n",
    "    frame_nums = sorted(set(f for pair in frame_pairs for f in pair))\n",
    "    index_map = {frame_num: i for i, frame_num in enumerate(frame_nums)}\n",
    "\n",
    "    for idx1, idx2 in frame_pairs:\n",
    "        img1 = load_frame(idx1)\n",
    "        img2 = load_frame(idx2)\n",
    "\n",
    "        if img1 is None or img2 is None:\n",
    "            print(f\"Skipped pair ({idx1}, {idx2}) due to missing frame.\")\n",
    "            continue\n",
    "\n",
    "        try:\n",
    "            i1 = index_map[idx1]\n",
    "            i2 = index_map[idx2]\n",
    "        except KeyError:\n",
    "            print(f\"Frame indices {idx1} or {idx2} not found in index map.\")\n",
    "            continue\n",
    "\n",
    "        print(f\"\\nMatching frames {idx1} and {idx2}:\")\n",
    "\n",
    "        for method in methods:\n",
    "            matches = match_and_draw(\n",
    "                img1, kps_dict[method][i1], desc_dict[method][i1],\n",
    "                img2, kps_dict[method][i2], desc_dict[method][i2],\n",
    "                method=method\n",
    "            )\n",
    "\n",
    "            run_ransac(\n",
    "                img1, img2,\n",
    "                kps_dict[method][i1], kps_dict[method][i2],\n",
    "                matches,\n",
    "                method=method\n",
    "            )\n",
    "\n",
    "\n",
    "# Call function with your frame pairs\n",
    "compare_matching_performance_ransac(frame_pairs, kps_dict, desc_dict)\n"
   ]
  },
  {
   "cell_type": "code",
   "execution_count": null,
   "id": "0bd305eb-c797-44d0-acbd-458ebfeaf0cd",
   "metadata": {},
   "outputs": [],
   "source": []
  }
 ],
 "metadata": {
  "kernelspec": {
   "display_name": "Python [conda env:base] *",
   "language": "python",
   "name": "conda-base-py"
  },
  "language_info": {
   "codemirror_mode": {
    "name": "ipython",
    "version": 3
   },
   "file_extension": ".py",
   "mimetype": "text/x-python",
   "name": "python",
   "nbconvert_exporter": "python",
   "pygments_lexer": "ipython3",
   "version": "3.12.7"
  }
 },
 "nbformat": 4,
 "nbformat_minor": 5
}
