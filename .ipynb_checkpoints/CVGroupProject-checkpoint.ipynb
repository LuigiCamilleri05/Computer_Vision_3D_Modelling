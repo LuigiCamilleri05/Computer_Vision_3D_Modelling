{
 "cells": [
  {
   "cell_type": "markdown",
   "id": "d064af66-1e8b-44c5-a989-625af6a1ba0a",
   "metadata": {},
   "source": [
    "# Computer Vision Group Project"
   ]
  },
  {
   "cell_type": "markdown",
   "id": "4d12b93e-0ecb-4667-9483-f42cb96b8faa",
   "metadata": {},
   "source": [
    "### This is the jupiter notebook needed to carry out the Computer Vision Group Project"
   ]
  },
  {
   "cell_type": "markdown",
   "id": "89535d81-38a8-423d-90ef-3f9484c6a8b7",
   "metadata": {},
   "source": [
    "## Setup"
   ]
  },
  {
   "cell_type": "markdown",
   "id": "4837c51f-47ee-495b-ac92-bd1ace506bce",
   "metadata": {},
   "source": [
    "### Installations"
   ]
  },
  {
   "cell_type": "code",
   "execution_count": 4,
   "id": "25c87775-2848-4f01-8279-b6c5ec9c3919",
   "metadata": {},
   "outputs": [
    {
     "name": "stdout",
     "output_type": "stream",
     "text": [
      "Collecting decord\n",
      "  Downloading decord-0.6.0-py3-none-win_amd64.whl.metadata (422 bytes)\n",
      "Requirement already satisfied: numpy>=1.14.0 in c:\\users\\luigi\\anaconda3\\lib\\site-packages (from decord) (1.26.4)\n",
      "Downloading decord-0.6.0-py3-none-win_amd64.whl (24.7 MB)\n",
      "   ---------------------------------------- 0.0/24.7 MB ? eta -:--:--\n",
      "   -- ------------------------------------- 1.3/24.7 MB 8.4 MB/s eta 0:00:03\n",
      "   ----- ---------------------------------- 3.4/24.7 MB 9.6 MB/s eta 0:00:03\n",
      "   -------- ------------------------------- 5.5/24.7 MB 9.3 MB/s eta 0:00:03\n",
      "   ----------- ---------------------------- 7.3/24.7 MB 9.4 MB/s eta 0:00:02\n",
      "   --------------- ------------------------ 9.4/24.7 MB 9.0 MB/s eta 0:00:02\n",
      "   ------------------ --------------------- 11.5/24.7 MB 9.1 MB/s eta 0:00:02\n",
      "   --------------------- ------------------ 13.1/24.7 MB 8.8 MB/s eta 0:00:02\n",
      "   ----------------------- ---------------- 14.7/24.7 MB 8.5 MB/s eta 0:00:02\n",
      "   -------------------------- ------------- 16.3/24.7 MB 8.5 MB/s eta 0:00:02\n",
      "   ---------------------------- ----------- 17.8/24.7 MB 8.5 MB/s eta 0:00:01\n",
      "   ------------------------------- -------- 19.4/24.7 MB 8.4 MB/s eta 0:00:01\n",
      "   ---------------------------------- ----- 21.2/24.7 MB 8.4 MB/s eta 0:00:01\n",
      "   ------------------------------------- -- 23.1/24.7 MB 8.4 MB/s eta 0:00:01\n",
      "   ---------------------------------------  24.6/24.7 MB 8.4 MB/s eta 0:00:01\n",
      "   ---------------------------------------- 24.7/24.7 MB 8.0 MB/s eta 0:00:00\n",
      "Installing collected packages: decord\n",
      "Successfully installed decord-0.6.0\n"
     ]
    }
   ],
   "source": [
    "!pip install decord"
   ]
  },
  {
   "cell_type": "markdown",
   "id": "8f77f84c-b7b2-4ae4-b466-8c164b845e05",
   "metadata": {},
   "source": [
    "### Libraries"
   ]
  },
  {
   "cell_type": "code",
   "execution_count": 11,
   "id": "924decba-ed87-4c85-b1f1-364ec07b1e00",
   "metadata": {},
   "outputs": [],
   "source": [
    "import os\n",
    "import cv2\n",
    "from decord import VideoReader, cpu\n",
    "import time"
   ]
  },
  {
   "cell_type": "markdown",
   "id": "cc72e6a2-d155-46fb-9a06-025fd5463364",
   "metadata": {},
   "source": [
    "## Frame Extractions"
   ]
  },
  {
   "cell_type": "code",
   "execution_count": 13,
   "id": "fa3a5006-fd63-47e5-81ec-97403b991a2e",
   "metadata": {},
   "outputs": [
    {
     "name": "stdout",
     "output_type": "stream",
     "text": [
      "75 frames saved to extracted_frames\n"
     ]
    },
    {
     "data": {
      "text/plain": [
       "75"
      ]
     },
     "execution_count": 13,
     "metadata": {},
     "output_type": "execute_result"
    }
   ],
   "source": [
    "def extract_frames_with_decord(video_path, frames_dir, every=1, overwrite=False):\n",
    "    os.makedirs(frames_dir, exist_ok=True)\n",
    "\n",
    "    vr = VideoReader(video_path, ctx=cpu(0))\n",
    "    total_frames = len(vr)\n",
    "    saved = 0\n",
    "\n",
    "    for idx in range(0, total_frames, every):\n",
    "        frame = vr[idx].asnumpy()\n",
    "        frame_filename = os.path.join(frames_dir, f\"frame_{idx:04d}.jpg\")\n",
    "\n",
    "        if not os.path.exists(frame_filename) or overwrite:\n",
    "            cv2.imwrite(frame_filename, cv2.cvtColor(frame, cv2.COLOR_RGB2BGR))\n",
    "            saved += 1\n",
    "\n",
    "    print(f\"{saved} frames saved to {frames_dir}\")\n",
    "    return saved\n",
    "\n",
    "video_path = \"Vid1.mp4\"         # path to input video\n",
    "frames_output = \"extracted_frames\"  # folder to save frames\n",
    "\n",
    "extract_frames_with_decord(video_path, frames_output, every=5)"
   ]
  },
  {
   "cell_type": "markdown",
   "id": "054aa803-0a1c-47e3-9622-544cccbfa0d3",
   "metadata": {},
   "source": [
    "## Feature Detection and Description"
   ]
  },
  {
   "cell_type": "code",
   "execution_count": 16,
   "id": "5696cdb7-eb5b-4433-ba37-7a049ea98c21",
   "metadata": {},
   "outputs": [
    {
     "name": "stdout",
     "output_type": "stream",
     "text": [
      "ORB keypoints: 1000\n",
      "SIFT keypoints: 1113\n",
      "AKAZE keypoints: 1035\n"
     ]
    }
   ],
   "source": [
    "frame_path = os.path.join(frames_output, \"frame_0000.jpg\")\n",
    "image = cv2.imread(frame_path, cv2.IMREAD_COLOR)\n",
    "\n",
    "if image is None:\n",
    "    raise FileNotFoundError(\"Image not found — check your frame path.\")\n",
    "\n",
    "orb = cv2.ORB_create(nfeatures=1000)\n",
    "orb_kps, orb_desc = orb.detectAndCompute(image, None)\n",
    "sift = cv2.SIFT_create()\n",
    "sift_kps, sift_desc = sift.detectAndCompute(image, None)\n",
    "akaze = cv2.AKAZE_create()\n",
    "akaze_kps, akaze_desc = akaze.detectAndCompute(image, None)\n",
    "\n",
    "print(f\"ORB keypoints: {len(orb_kps)}\")\n",
    "print(f\"SIFT keypoints: {len(sift_kps)}\")\n",
    "print(f\"AKAZE keypoints: {len(akaze_kps)}\")"
   ]
  },
  {
   "cell_type": "code",
   "execution_count": null,
   "id": "49254cfd-4490-4812-877a-b4f9126f47d1",
   "metadata": {},
   "outputs": [],
   "source": []
  }
 ],
 "metadata": {
  "kernelspec": {
   "display_name": "Python [conda env:base] *",
   "language": "python",
   "name": "conda-base-py"
  },
  "language_info": {
   "codemirror_mode": {
    "name": "ipython",
    "version": 3
   },
   "file_extension": ".py",
   "mimetype": "text/x-python",
   "name": "python",
   "nbconvert_exporter": "python",
   "pygments_lexer": "ipython3",
   "version": "3.12.7"
  }
 },
 "nbformat": 4,
 "nbformat_minor": 5
}
